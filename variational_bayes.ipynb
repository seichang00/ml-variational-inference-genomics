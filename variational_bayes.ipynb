{
 "cells": [
  {
   "cell_type": "markdown",
   "metadata": {},
   "source": [
    "## Variational Inference in Pyro on CIFAR 10"
   ]
  },
  {
   "cell_type": "markdown",
   "metadata": {},
   "source": [
    "### Data Pre-Processing\n",
    "\n",
    "#### Unwrapping CIFAR 10 Python Dataset\n",
    "\n",
    "CIFAR-10 contains 60K 32x32 images divided into 10 clusters. `test_batch` contains 10K samples and `data_batch_{1...5}` contains 10K samples each."
   ]
  },
  {
   "cell_type": "code",
   "execution_count": 5,
   "metadata": {},
   "outputs": [
    {
     "name": "stdout",
     "output_type": "stream",
     "text": [
      "./cifar-10-batches-py/data_batch_1\n",
      "dict_keys([b'batch_label', b'labels', b'data', b'filenames'])\n",
      "./cifar-10-batches-py/data_batch_2\n",
      "dict_keys([b'batch_label', b'labels', b'data', b'filenames'])\n",
      "./cifar-10-batches-py/data_batch_3\n",
      "dict_keys([b'batch_label', b'labels', b'data', b'filenames'])\n",
      "./cifar-10-batches-py/data_batch_4\n",
      "dict_keys([b'batch_label', b'labels', b'data', b'filenames'])\n",
      "./cifar-10-batches-py/data_batch_5\n",
      "dict_keys([b'batch_label', b'labels', b'data', b'filenames'])\n"
     ]
    },
    {
     "data": {
      "text/plain": [
       "5"
      ]
     },
     "execution_count": 5,
     "metadata": {},
     "output_type": "execute_result"
    }
   ],
   "source": [
    "import pickle\n",
    "import os\n",
    "import numpy\n",
    "\n",
    "def unpickle(file):\n",
    "    with open(file, 'rb') as fo:\n",
    "        dict = pickle.load(fo, encoding='bytes')\n",
    "    return dict\n",
    "\n",
    "cifar_path = \"cifar-10-batches-py\"\n",
    "batches = [file for file in sorted(os.listdir(cifar_path)) if \"_batch\" in file]\n",
    "\n",
    "data_batches = list()\n",
    "for i, batch in enumerate(batches):\n",
    "    batch_path = os.path.join(os.curdir, cifar_path, batches[i])\n",
    "    data_batches.append(unpickle(batch_path))\n",
    "\n",
    "    print(batch_path)\n",
    "    print(data_batches[i].keys())\n",
    "\n",
    "len(data_batches)"
   ]
  },
  {
   "cell_type": "code",
   "execution_count": null,
   "metadata": {},
   "outputs": [],
   "source": []
  }
 ],
 "metadata": {
  "kernelspec": {
   "display_name": "Python 3.9.12 ('base')",
   "language": "python",
   "name": "python3"
  },
  "language_info": {
   "codemirror_mode": {
    "name": "ipython",
    "version": 3
   },
   "file_extension": ".py",
   "mimetype": "text/x-python",
   "name": "python",
   "nbconvert_exporter": "python",
   "pygments_lexer": "ipython3",
   "version": "3.9.12"
  },
  "orig_nbformat": 4,
  "vscode": {
   "interpreter": {
    "hash": "51dc9f1ff6e0157435cdd11566ea2ea155b14fc128ee776f50901b81d69a36e0"
   }
  }
 },
 "nbformat": 4,
 "nbformat_minor": 2
}
